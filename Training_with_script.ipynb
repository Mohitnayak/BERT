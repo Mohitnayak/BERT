{
  "nbformat": 4,
  "nbformat_minor": 0,
  "metadata": {
    "colab": {
      "name": "Training with script.ipynb",
      "provenance": [],
      "authorship_tag": "ABX9TyM7uWR31qhzUP5ibKmtl6iC",
      "include_colab_link": true
    },
    "kernelspec": {
      "name": "python3",
      "display_name": "Python 3"
    },
    "language_info": {
      "name": "python"
    }
  },
  "cells": [
    {
      "cell_type": "markdown",
      "metadata": {
        "id": "view-in-github",
        "colab_type": "text"
      },
      "source": [
        "<a href=\"https://colab.research.google.com/github/Mohitnayak/BERT/blob/master/Training_with_script.ipynb\" target=\"_parent\"><img src=\"https://colab.research.google.com/assets/colab-badge.svg\" alt=\"Open In Colab\"/></a>"
      ]
    },
    {
      "cell_type": "code",
      "execution_count": 1,
      "metadata": {
        "id": "R4V5y9_2S9Fq"
      },
      "outputs": [],
      "source": [
        "!git clone https://github.com/huggingface/transformers\n",
        "!cd transformers\n",
        "!pip install ."
      ]
    },
    {
      "cell_type": "markdown",
      "source": [
        "https://huggingface.co/docs/transformers/run_scripts"
      ],
      "metadata": {
        "id": "pwYa-7gaTT9i"
      }
    }
  ]
}